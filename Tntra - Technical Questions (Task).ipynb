{
 "cells": [
  {
   "cell_type": "markdown",
   "id": "d8064774",
   "metadata": {},
   "source": [
    "### Problem 1: Program to count occurrences of a given character in a string."
   ]
  },
  {
   "cell_type": "code",
   "execution_count": 1,
   "id": "ef120e63",
   "metadata": {},
   "outputs": [
    {
     "name": "stdout",
     "output_type": "stream",
     "text": [
      "Count character 'e' in 'geeksforgeeks': 4\n",
      "Count character '3' in 'abccdefgaa.': 0\n"
     ]
    }
   ],
   "source": [
    "def count_occurrences(input_string, char_to_count):\n",
    "    count = 0\n",
    "    for char in input_string:\n",
    "        if char == char_to_count:\n",
    "            count += 1\n",
    "    return count\n",
    "\n",
    "input_str1 = \"geeksforgeeks\"\n",
    "input_str2 = \"abccdefgaa.\"\n",
    "\n",
    "char1 = 'e'\n",
    "char2 = '3'\n",
    "\n",
    "output1 = count_occurrences(input_str1, char1)\n",
    "output2 = count_occurrences(input_str2, char2)\n",
    "\n",
    "print(f\"Count character '{char1}' in '{input_str1}': {output1}\")\n",
    "print(f\"Count character '{char2}' in '{input_str2}': {output2}\")\n"
   ]
  },
  {
   "cell_type": "code",
   "execution_count": null,
   "id": "72759f15",
   "metadata": {},
   "outputs": [],
   "source": []
  },
  {
   "cell_type": "markdown",
   "id": "cfcf2b78",
   "metadata": {},
   "source": [
    "### Problem 2: Determine whether a given string is Palindrome."
   ]
  },
  {
   "cell_type": "code",
   "execution_count": 2,
   "id": "7c918718",
   "metadata": {},
   "outputs": [
    {
     "name": "stdout",
     "output_type": "stream",
     "text": [
      "Input: 'anna', Output: True\n",
      "Input: 'India', Output: False\n"
     ]
    }
   ],
   "source": [
    "def is_palindrome(input_string):\n",
    "    input_string = input_string.lower()\n",
    "    reversed_string = input_string[::-1]\n",
    "    return input_string == reversed_string\n",
    "\n",
    "input_str1 = \"anna\"\n",
    "input_str2 = \"India\"\n",
    "\n",
    "output1 = is_palindrome(input_str1)\n",
    "output2 = is_palindrome(input_str2)\n",
    "\n",
    "print(f\"Input: '{input_str1}', Output: {output1}\")\n",
    "print(f\"Input: '{input_str2}', Output: {output2}\")\n"
   ]
  },
  {
   "cell_type": "code",
   "execution_count": null,
   "id": "f7f8f5d0",
   "metadata": {},
   "outputs": [],
   "source": []
  },
  {
   "cell_type": "markdown",
   "id": "d5cabd4b",
   "metadata": {},
   "source": [
    "### Problem 3: Biggest and smallest number in an array."
   ]
  },
  {
   "cell_type": "code",
   "execution_count": 3,
   "id": "6cb1e17c",
   "metadata": {},
   "outputs": [
    {
     "name": "stdout",
     "output_type": "stream",
     "text": [
      "Input: arr1 = [1, 2, 3, 4, 5]\n",
      "Maximum is: 5\n",
      "Minimum is: 1\n",
      "Input: arr2 = [5, 3, 7, 4, 2]\n",
      "Maximum is: 7\n",
      "Minimum is: 2\n"
     ]
    }
   ],
   "source": [
    "def find_max_min(arr):\n",
    "    if not arr:\n",
    "        return None, None\n",
    "    max_num = min_num = arr[0]\n",
    "    for num in arr:\n",
    "        if num > max_num:\n",
    "            max_num = num\n",
    "        if num < min_num:\n",
    "            min_num = num\n",
    "    return max_num, min_num\n",
    "\n",
    "arr1 = [1, 2, 3, 4, 5]\n",
    "arr2 = [5, 3, 7, 4, 2]\n",
    "\n",
    "max1, min1 = find_max_min(arr1)\n",
    "max2, min2 = find_max_min(arr2)\n",
    "\n",
    "print(f\"Input: arr1 = {arr1}\")\n",
    "print(f\"Maximum is: {max1}\")\n",
    "print(f\"Minimum is: {min1}\")\n",
    "\n",
    "print(f\"Input: arr2 = {arr2}\")\n",
    "print(f\"Maximum is: {max2}\")\n",
    "print(f\"Minimum is: {min2}\")\n"
   ]
  },
  {
   "cell_type": "code",
   "execution_count": null,
   "id": "c7d7c81d",
   "metadata": {},
   "outputs": [],
   "source": []
  },
  {
   "cell_type": "markdown",
   "id": "c9f5eb63",
   "metadata": {},
   "source": [
    "### Problem 4: Swap two Strings Without Using any Third Variable."
   ]
  },
  {
   "cell_type": "code",
   "execution_count": 4,
   "id": "f6a0ee34",
   "metadata": {},
   "outputs": [
    {
     "name": "stdout",
     "output_type": "stream",
     "text": [
      "Strings after swap: a = World and b = Hello\n"
     ]
    }
   ],
   "source": [
    "def swap_strings(a, b):\n",
    "    a, b = b, a\n",
    "    return a, b\n",
    "\n",
    "a = \"Hello\"\n",
    "b = \"World\"\n",
    "\n",
    "a, b = swap_strings(a, b)\n",
    "\n",
    "print(f\"Strings after swap: a = {a} and b = {b}\")\n"
   ]
  },
  {
   "cell_type": "markdown",
   "id": "1d1db43d",
   "metadata": {},
   "source": [
    "### Problem 5: Swap two numbers without using a temporary variable."
   ]
  },
  {
   "cell_type": "code",
   "execution_count": 5,
   "id": "c25cc53b",
   "metadata": {},
   "outputs": [
    {
     "name": "stdout",
     "output_type": "stream",
     "text": [
      "Numbers after swap: a = 50 and b = 10\n"
     ]
    }
   ],
   "source": [
    "def swap_numbers(a, b):\n",
    "    a = a + b\n",
    "    b = a - b\n",
    "    a = a - b\n",
    "    return a, b\n",
    "\n",
    "a = 10\n",
    "b = 50\n",
    "\n",
    "a, b = swap_numbers(a, b)\n",
    "\n",
    "print(f\"Numbers after swap: a = {a} and b = {b}\")\n"
   ]
  },
  {
   "cell_type": "code",
   "execution_count": null,
   "id": "31c93f6a",
   "metadata": {},
   "outputs": [],
   "source": []
  }
 ],
 "metadata": {
  "kernelspec": {
   "display_name": "Python 3 (ipykernel)",
   "language": "python",
   "name": "python3"
  },
  "language_info": {
   "codemirror_mode": {
    "name": "ipython",
    "version": 3
   },
   "file_extension": ".py",
   "mimetype": "text/x-python",
   "name": "python",
   "nbconvert_exporter": "python",
   "pygments_lexer": "ipython3",
   "version": "3.10.9"
  }
 },
 "nbformat": 4,
 "nbformat_minor": 5
}
